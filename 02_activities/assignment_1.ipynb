{
 "cells": [
  {
   "cell_type": "code",
   "execution_count": 3,
   "metadata": {},
   "outputs": [],
   "source": [
    "def anagram_checker(word_a, word_b):\n",
    "    # Convert both strings to lowercase to ensure case insensitivity\n",
    "    word_a = word_a.lower()\n",
    "    word_b = word_b.lower()\n",
    "     # Sort the characters of both strings and compare them\n",
    "    return sorted(word_a) == sorted(word_b)"
   ]
  },
  {
   "cell_type": "code",
   "execution_count": 6,
   "metadata": {},
   "outputs": [
    {
     "data": {
      "text/plain": [
       "True"
      ]
     },
     "execution_count": 6,
     "metadata": {},
     "output_type": "execute_result"
    }
   ],
   "source": [
    "anagram_checker(\"silent\",\"listen\")\n",
    "anagram_checker(\"Silent\",\"listen\")"
   ]
  },
  {
   "cell_type": "code",
   "execution_count": 8,
   "metadata": {},
   "outputs": [],
   "source": [
    "def anagram_checker(word_a, word_b, is_case_sensitive):\n",
    "    if not is_case_sensitive:\n",
    "        # Convert both strings to lowercase if case insensitivity is required\n",
    "        word_a = word_a.lower()\n",
    "        word_b = word_b.lower()\n",
    "    \n",
    "    # Sort the characters of both strings and compare them\n",
    "    return sorted(word_a) == sorted(word_b)"
   ]
  },
  {
   "cell_type": "code",
   "execution_count": 12,
   "metadata": {},
   "outputs": [
    {
     "data": {
      "text/plain": [
       "True"
      ]
     },
     "execution_count": 12,
     "metadata": {},
     "output_type": "execute_result"
    }
   ],
   "source": [
    "anagram_checker(\"Silent\", \"listen\", False)"
   ]
  }
 ],
 "metadata": {
  "kernelspec": {
   "display_name": "dsi_participant",
   "language": "python",
   "name": "python3"
  },
  "language_info": {
   "codemirror_mode": {
    "name": "ipython",
    "version": 3
   },
   "file_extension": ".py",
   "mimetype": "text/x-python",
   "name": "python",
   "nbconvert_exporter": "python",
   "pygments_lexer": "ipython3",
   "version": "3.9.15"
  }
 },
 "nbformat": 4,
 "nbformat_minor": 2
}
